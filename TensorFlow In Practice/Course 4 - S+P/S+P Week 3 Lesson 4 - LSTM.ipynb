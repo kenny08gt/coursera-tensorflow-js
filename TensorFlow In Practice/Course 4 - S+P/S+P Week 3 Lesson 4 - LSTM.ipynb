{
  "nbformat": 4,
  "nbformat_minor": 0,
  "metadata": {
    "colab": {
      "name": "S+P Week 3 Lesson 4 - LSTM.ipynb",
      "provenance": [],
      "collapsed_sections": [],
      "toc_visible": true,
      "include_colab_link": true
    },
    "kernelspec": {
      "display_name": "Python 3",
      "name": "python3"
    },
    "accelerator": "GPU"
  },
  "cells": [
    {
      "cell_type": "markdown",
      "metadata": {
        "id": "view-in-github",
        "colab_type": "text"
      },
      "source": [
        "<a href=\"https://colab.research.google.com/github/kenny08gt/coursera-tensorflow-js/blob/main/TensorFlow%20In%20Practice/Course%204%20-%20S%2BP/S%2BP%20Week%203%20Lesson%204%20-%20LSTM.ipynb\" target=\"_parent\"><img src=\"https://colab.research.google.com/assets/colab-badge.svg\" alt=\"Open In Colab\"/></a>"
      ]
    },
    {
      "cell_type": "code",
      "metadata": {
        "id": "zX4Kg8DUTKWO"
      },
      "source": [
        "#@title Licensed under the Apache License, Version 2.0 (the \"License\");\n",
        "# you may not use this file except in compliance with the License.\n",
        "# You may obtain a copy of the License at\n",
        "#\n",
        "# https://www.apache.org/licenses/LICENSE-2.0\n",
        "#\n",
        "# Unless required by applicable law or agreed to in writing, software\n",
        "# distributed under the License is distributed on an \"AS IS\" BASIS,\n",
        "# WITHOUT WARRANTIES OR CONDITIONS OF ANY KIND, either express or implied.\n",
        "# See the License for the specific language governing permissions and\n",
        "# limitations under the License."
      ],
      "execution_count": 2,
      "outputs": []
    },
    {
      "cell_type": "code",
      "metadata": {
        "colab": {
          "base_uri": "https://localhost:8080/"
        },
        "id": "BOjujz601HcS",
        "outputId": "a00bbc93-9d3a-43de-9032-207772490faa"
      },
      "source": [
        "import tensorflow as tf\n",
        "import numpy as np\n",
        "import matplotlib.pyplot as plt\n",
        "print(tf.__version__)"
      ],
      "execution_count": 3,
      "outputs": [
        {
          "output_type": "stream",
          "text": [
            "2.6.0\n"
          ],
          "name": "stdout"
        }
      ]
    },
    {
      "cell_type": "code",
      "metadata": {
        "id": "Zswl7jRtGzkk"
      },
      "source": [
        "def plot_series(time, series, format=\"-\", start=0, end=None):\n",
        "    plt.plot(time[start:end], series[start:end], format)\n",
        "    plt.xlabel(\"Time\")\n",
        "    plt.ylabel(\"Value\")\n",
        "    plt.grid(True)\n",
        "\n",
        "def trend(time, slope=0):\n",
        "    return slope * time\n",
        "\n",
        "def seasonal_pattern(season_time):\n",
        "    \"\"\"Just an arbitrary pattern, you can change it if you wish\"\"\"\n",
        "    return np.where(season_time < 0.4,\n",
        "                    np.cos(season_time * 2 * np.pi),\n",
        "                    1 / np.exp(3 * season_time))\n",
        "\n",
        "def seasonality(time, period, amplitude=1, phase=0):\n",
        "    \"\"\"Repeats the same pattern at each period\"\"\"\n",
        "    season_time = ((time + phase) % period) / period\n",
        "    return amplitude * seasonal_pattern(season_time)\n",
        "\n",
        "def noise(time, noise_level=1, seed=None):\n",
        "    rnd = np.random.RandomState(seed)\n",
        "    return rnd.randn(len(time)) * noise_level\n",
        "\n",
        "time = np.arange(4 * 365 + 1, dtype=\"float32\")\n",
        "baseline = 10\n",
        "series = trend(time, 0.1)  \n",
        "baseline = 10\n",
        "amplitude = 40\n",
        "slope = 0.05\n",
        "noise_level = 5\n",
        "\n",
        "# Create the series\n",
        "series = baseline + trend(time, slope) + seasonality(time, period=365, amplitude=amplitude)\n",
        "# Update with noise\n",
        "series += noise(time, noise_level, seed=42)\n",
        "\n",
        "split_time = 1000\n",
        "time_train = time[:split_time]\n",
        "x_train = series[:split_time]\n",
        "time_valid = time[split_time:]\n",
        "x_valid = series[split_time:]\n",
        "\n",
        "window_size = 20\n",
        "batch_size = 32\n",
        "shuffle_buffer_size = 1000"
      ],
      "execution_count": 4,
      "outputs": []
    },
    {
      "cell_type": "code",
      "metadata": {
        "id": "4sTTIOCbyShY"
      },
      "source": [
        "def windowed_dataset(series, window_size, batch_size, shuffle_buffer):\n",
        "  dataset = tf.data.Dataset.from_tensor_slices(series)\n",
        "  dataset = dataset.window(window_size + 1, shift=1, drop_remainder=True)\n",
        "  dataset = dataset.flat_map(lambda window: window.batch(window_size + 1))\n",
        "  dataset = dataset.shuffle(shuffle_buffer).map(lambda window: (window[:-1], window[-1]))\n",
        "  dataset = dataset.batch(batch_size).prefetch(1)\n",
        "  return dataset"
      ],
      "execution_count": 5,
      "outputs": []
    },
    {
      "cell_type": "code",
      "metadata": {
        "colab": {
          "base_uri": "https://localhost:8080/"
        },
        "id": "A1Hl39rklkLm",
        "outputId": "bd899996-2675-4fc5-fd67-30ce9841f5c6"
      },
      "source": [
        "tf.keras.backend.clear_session()\n",
        "tf.random.set_seed(51)\n",
        "np.random.seed(51)\n",
        "\n",
        "tf.keras.backend.clear_session()\n",
        "dataset = windowed_dataset(x_train, window_size, batch_size, shuffle_buffer_size)\n",
        "\n",
        "model = tf.keras.models.Sequential([\n",
        "  tf.keras.layers.Lambda(lambda x: tf.expand_dims(x, axis=-1),\n",
        "                      input_shape=[None]),\n",
        "    tf.keras.layers.Bidirectional(tf.keras.layers.LSTM(32, return_sequences=True)),\n",
        "  tf.keras.layers.Bidirectional(tf.keras.layers.LSTM(32)),\n",
        "  tf.keras.layers.Dense(1),\n",
        "  tf.keras.layers.Lambda(lambda x: x * 100.0)\n",
        "])\n",
        "\n",
        "lr_schedule = tf.keras.callbacks.LearningRateScheduler(\n",
        "    lambda epoch: 1e-8 * 10**(epoch / 20))\n",
        "optimizer = tf.keras.optimizers.SGD(lr=1e-8, momentum=0.9)\n",
        "model.compile(loss=tf.keras.losses.Huber(),\n",
        "              optimizer=optimizer,\n",
        "              metrics=[\"mae\"])\n",
        "history = model.fit(dataset, epochs=100, callbacks=[lr_schedule])"
      ],
      "execution_count": 6,
      "outputs": [
        {
          "output_type": "stream",
          "text": [
            "/usr/local/lib/python3.7/dist-packages/keras/optimizer_v2/optimizer_v2.py:356: UserWarning: The `lr` argument is deprecated, use `learning_rate` instead.\n",
            "  \"The `lr` argument is deprecated, use `learning_rate` instead.\")\n"
          ],
          "name": "stderr"
        },
        {
          "output_type": "stream",
          "text": [
            "Epoch 1/100\n",
            "31/31 [==============================] - 11s 23ms/step - loss: 21.5167 - mae: 22.0115\n",
            "Epoch 2/100\n",
            "31/31 [==============================] - 1s 22ms/step - loss: 21.1522 - mae: 21.6444\n",
            "Epoch 3/100\n",
            "31/31 [==============================] - 1s 22ms/step - loss: 20.7302 - mae: 21.2236\n",
            "Epoch 4/100\n",
            "31/31 [==============================] - 1s 22ms/step - loss: 20.2834 - mae: 20.7757\n",
            "Epoch 5/100\n",
            "31/31 [==============================] - 1s 22ms/step - loss: 19.7897 - mae: 20.2855\n",
            "Epoch 6/100\n",
            "31/31 [==============================] - 1s 22ms/step - loss: 19.1782 - mae: 19.6696\n",
            "Epoch 7/100\n",
            "31/31 [==============================] - 1s 22ms/step - loss: 18.2410 - mae: 18.7333\n",
            "Epoch 8/100\n",
            "31/31 [==============================] - 1s 23ms/step - loss: 17.4825 - mae: 17.9748\n",
            "Epoch 9/100\n",
            "31/31 [==============================] - 1s 22ms/step - loss: 17.1597 - mae: 17.6529\n",
            "Epoch 10/100\n",
            "31/31 [==============================] - 1s 21ms/step - loss: 16.8547 - mae: 17.3463\n",
            "Epoch 11/100\n",
            "31/31 [==============================] - 1s 23ms/step - loss: 16.5533 - mae: 17.0471\n",
            "Epoch 12/100\n",
            "31/31 [==============================] - 1s 22ms/step - loss: 16.2565 - mae: 16.7524\n",
            "Epoch 13/100\n",
            "31/31 [==============================] - 1s 21ms/step - loss: 15.9629 - mae: 16.4598\n",
            "Epoch 14/100\n",
            "31/31 [==============================] - 1s 22ms/step - loss: 15.6593 - mae: 16.1548\n",
            "Epoch 15/100\n",
            "31/31 [==============================] - 1s 23ms/step - loss: 15.3713 - mae: 15.8652\n",
            "Epoch 16/100\n",
            "31/31 [==============================] - 1s 22ms/step - loss: 15.0752 - mae: 15.5697\n",
            "Epoch 17/100\n",
            "31/31 [==============================] - 1s 22ms/step - loss: 14.7905 - mae: 15.2869\n",
            "Epoch 18/100\n",
            "31/31 [==============================] - 1s 23ms/step - loss: 14.5229 - mae: 15.0178\n",
            "Epoch 19/100\n",
            "31/31 [==============================] - 1s 22ms/step - loss: 14.2707 - mae: 14.7636\n",
            "Epoch 20/100\n",
            "31/31 [==============================] - 1s 21ms/step - loss: 14.0293 - mae: 14.5217\n",
            "Epoch 21/100\n",
            "31/31 [==============================] - 1s 22ms/step - loss: 13.8191 - mae: 14.3135\n",
            "Epoch 22/100\n",
            "31/31 [==============================] - 1s 22ms/step - loss: 13.6084 - mae: 14.1032\n",
            "Epoch 23/100\n",
            "31/31 [==============================] - 1s 22ms/step - loss: 13.4096 - mae: 13.9038\n",
            "Epoch 24/100\n",
            "31/31 [==============================] - 1s 22ms/step - loss: 13.1859 - mae: 13.6794\n",
            "Epoch 25/100\n",
            "31/31 [==============================] - 1s 22ms/step - loss: 12.9819 - mae: 13.4747\n",
            "Epoch 26/100\n",
            "31/31 [==============================] - 1s 22ms/step - loss: 12.7278 - mae: 13.2184\n",
            "Epoch 27/100\n",
            "31/31 [==============================] - 1s 22ms/step - loss: 12.4886 - mae: 12.9799\n",
            "Epoch 28/100\n",
            "31/31 [==============================] - 1s 23ms/step - loss: 12.3459 - mae: 12.8362\n",
            "Epoch 29/100\n",
            "31/31 [==============================] - 1s 21ms/step - loss: 11.9127 - mae: 12.4017\n",
            "Epoch 30/100\n",
            "31/31 [==============================] - 1s 22ms/step - loss: 11.5934 - mae: 12.0835\n",
            "Epoch 31/100\n",
            "31/31 [==============================] - 1s 22ms/step - loss: 11.2859 - mae: 11.7771\n",
            "Epoch 32/100\n",
            "31/31 [==============================] - 1s 22ms/step - loss: 11.3520 - mae: 11.8418\n",
            "Epoch 33/100\n",
            "31/31 [==============================] - 1s 23ms/step - loss: 10.5232 - mae: 11.0139\n",
            "Epoch 34/100\n",
            "31/31 [==============================] - 1s 22ms/step - loss: 10.5497 - mae: 11.0379\n",
            "Epoch 35/100\n",
            "31/31 [==============================] - 1s 22ms/step - loss: 10.0667 - mae: 10.5519\n",
            "Epoch 36/100\n",
            "31/31 [==============================] - 1s 22ms/step - loss: 10.6445 - mae: 11.1369\n",
            "Epoch 37/100\n",
            "31/31 [==============================] - 1s 22ms/step - loss: 10.2624 - mae: 10.7533\n",
            "Epoch 38/100\n",
            "31/31 [==============================] - 1s 22ms/step - loss: 9.6822 - mae: 10.1703\n",
            "Epoch 39/100\n",
            "31/31 [==============================] - 1s 22ms/step - loss: 9.1576 - mae: 9.6420\n",
            "Epoch 40/100\n",
            "31/31 [==============================] - 1s 22ms/step - loss: 8.7008 - mae: 9.1866\n",
            "Epoch 41/100\n",
            "31/31 [==============================] - 1s 22ms/step - loss: 8.2782 - mae: 8.7635\n",
            "Epoch 42/100\n",
            "31/31 [==============================] - 1s 22ms/step - loss: 7.9342 - mae: 8.4188\n",
            "Epoch 43/100\n",
            "31/31 [==============================] - 1s 22ms/step - loss: 7.6089 - mae: 8.0929\n",
            "Epoch 44/100\n",
            "31/31 [==============================] - 1s 23ms/step - loss: 7.3643 - mae: 7.8504\n",
            "Epoch 45/100\n",
            "31/31 [==============================] - 1s 22ms/step - loss: 7.2039 - mae: 7.6874\n",
            "Epoch 46/100\n",
            "31/31 [==============================] - 1s 23ms/step - loss: 6.8901 - mae: 7.3726\n",
            "Epoch 47/100\n",
            "31/31 [==============================] - 1s 23ms/step - loss: 6.6798 - mae: 7.1633\n",
            "Epoch 48/100\n",
            "31/31 [==============================] - 1s 22ms/step - loss: 6.5776 - mae: 7.0597\n",
            "Epoch 49/100\n",
            "31/31 [==============================] - 1s 22ms/step - loss: 6.2079 - mae: 6.6839\n",
            "Epoch 50/100\n",
            "31/31 [==============================] - 1s 22ms/step - loss: 6.0391 - mae: 6.5180\n",
            "Epoch 51/100\n",
            "31/31 [==============================] - 1s 22ms/step - loss: 5.9102 - mae: 6.3880\n",
            "Epoch 52/100\n",
            "31/31 [==============================] - 1s 22ms/step - loss: 5.7769 - mae: 6.2585\n",
            "Epoch 53/100\n",
            "31/31 [==============================] - 1s 22ms/step - loss: 5.6296 - mae: 6.1098\n",
            "Epoch 54/100\n",
            "31/31 [==============================] - 1s 21ms/step - loss: 5.5201 - mae: 5.9943\n",
            "Epoch 55/100\n",
            "31/31 [==============================] - 1s 21ms/step - loss: 5.3906 - mae: 5.8627\n",
            "Epoch 56/100\n",
            "31/31 [==============================] - 1s 22ms/step - loss: 5.5555 - mae: 6.0293\n",
            "Epoch 57/100\n",
            "31/31 [==============================] - 1s 22ms/step - loss: 5.2783 - mae: 5.7561\n",
            "Epoch 58/100\n",
            "31/31 [==============================] - 1s 23ms/step - loss: 5.2566 - mae: 5.7348\n",
            "Epoch 59/100\n",
            "31/31 [==============================] - 1s 21ms/step - loss: 5.1177 - mae: 5.5963\n",
            "Epoch 60/100\n",
            "31/31 [==============================] - 1s 23ms/step - loss: 5.0499 - mae: 5.5242\n",
            "Epoch 61/100\n",
            "31/31 [==============================] - 1s 22ms/step - loss: 5.3116 - mae: 5.7906\n",
            "Epoch 62/100\n",
            "31/31 [==============================] - 1s 22ms/step - loss: 5.2180 - mae: 5.6976\n",
            "Epoch 63/100\n",
            "31/31 [==============================] - 1s 22ms/step - loss: 5.0244 - mae: 5.4991\n",
            "Epoch 64/100\n",
            "31/31 [==============================] - 1s 22ms/step - loss: 4.8398 - mae: 5.3145\n",
            "Epoch 65/100\n",
            "31/31 [==============================] - 1s 23ms/step - loss: 5.2841 - mae: 5.7640\n",
            "Epoch 66/100\n",
            "31/31 [==============================] - 1s 26ms/step - loss: 5.3670 - mae: 5.8503\n",
            "Epoch 67/100\n",
            "31/31 [==============================] - 1s 22ms/step - loss: 6.1163 - mae: 6.5990\n",
            "Epoch 68/100\n",
            "31/31 [==============================] - 1s 23ms/step - loss: 5.2426 - mae: 5.7265\n",
            "Epoch 69/100\n",
            "31/31 [==============================] - 1s 22ms/step - loss: 5.4561 - mae: 5.9367\n",
            "Epoch 70/100\n",
            "31/31 [==============================] - 1s 24ms/step - loss: 4.8408 - mae: 5.3134\n",
            "Epoch 71/100\n",
            "31/31 [==============================] - 1s 22ms/step - loss: 5.7586 - mae: 6.2404\n",
            "Epoch 72/100\n",
            "31/31 [==============================] - 1s 21ms/step - loss: 5.2858 - mae: 5.7646\n",
            "Epoch 73/100\n",
            "31/31 [==============================] - 1s 22ms/step - loss: 7.0111 - mae: 7.4947\n",
            "Epoch 74/100\n",
            "31/31 [==============================] - 1s 22ms/step - loss: 5.2327 - mae: 5.7085\n",
            "Epoch 75/100\n",
            "31/31 [==============================] - 1s 22ms/step - loss: 5.2282 - mae: 5.7070\n",
            "Epoch 76/100\n",
            "31/31 [==============================] - 1s 22ms/step - loss: 5.6753 - mae: 6.1576\n",
            "Epoch 77/100\n",
            "31/31 [==============================] - 1s 23ms/step - loss: 6.4942 - mae: 6.9785\n",
            "Epoch 78/100\n",
            "31/31 [==============================] - 1s 23ms/step - loss: 5.6344 - mae: 6.1117\n",
            "Epoch 79/100\n",
            "31/31 [==============================] - 1s 23ms/step - loss: 6.0920 - mae: 6.5763\n",
            "Epoch 80/100\n",
            "31/31 [==============================] - 1s 24ms/step - loss: 7.9680 - mae: 8.4565\n",
            "Epoch 81/100\n",
            "31/31 [==============================] - 1s 22ms/step - loss: 5.9348 - mae: 6.4159\n",
            "Epoch 82/100\n",
            "31/31 [==============================] - 1s 22ms/step - loss: 6.2587 - mae: 6.7447\n",
            "Epoch 83/100\n",
            "31/31 [==============================] - 1s 22ms/step - loss: 6.1546 - mae: 6.6356\n",
            "Epoch 84/100\n",
            "31/31 [==============================] - 1s 22ms/step - loss: 5.4510 - mae: 5.9239\n",
            "Epoch 85/100\n",
            "31/31 [==============================] - 1s 23ms/step - loss: 9.1235 - mae: 9.6112\n",
            "Epoch 86/100\n",
            "31/31 [==============================] - 1s 23ms/step - loss: 6.5131 - mae: 6.9999\n",
            "Epoch 87/100\n",
            "31/31 [==============================] - 1s 23ms/step - loss: 6.6198 - mae: 7.1019\n",
            "Epoch 88/100\n",
            "31/31 [==============================] - 1s 23ms/step - loss: 6.3882 - mae: 6.8727\n",
            "Epoch 89/100\n",
            "31/31 [==============================] - 1s 22ms/step - loss: 6.6038 - mae: 7.0853\n",
            "Epoch 90/100\n",
            "31/31 [==============================] - 1s 22ms/step - loss: 6.2475 - mae: 6.7294\n",
            "Epoch 91/100\n",
            "31/31 [==============================] - 1s 23ms/step - loss: 7.9981 - mae: 8.4840\n",
            "Epoch 92/100\n",
            "31/31 [==============================] - 1s 22ms/step - loss: 9.6233 - mae: 10.1148\n",
            "Epoch 93/100\n",
            "31/31 [==============================] - 1s 23ms/step - loss: 8.4513 - mae: 8.9412\n",
            "Epoch 94/100\n",
            "31/31 [==============================] - 1s 23ms/step - loss: 7.7112 - mae: 8.1990\n",
            "Epoch 95/100\n",
            "31/31 [==============================] - 1s 22ms/step - loss: 8.1506 - mae: 8.6390\n",
            "Epoch 96/100\n",
            "31/31 [==============================] - 1s 23ms/step - loss: 8.2768 - mae: 8.7631\n",
            "Epoch 97/100\n",
            "31/31 [==============================] - 1s 23ms/step - loss: 7.5149 - mae: 8.0000\n",
            "Epoch 98/100\n",
            "31/31 [==============================] - 1s 23ms/step - loss: 10.2822 - mae: 10.7738\n",
            "Epoch 99/100\n",
            "31/31 [==============================] - 1s 23ms/step - loss: 13.9749 - mae: 14.4703\n",
            "Epoch 100/100\n",
            "31/31 [==============================] - 1s 23ms/step - loss: 11.0458 - mae: 11.5338\n"
          ],
          "name": "stdout"
        }
      ]
    },
    {
      "cell_type": "code",
      "metadata": {
        "colab": {
          "base_uri": "https://localhost:8080/",
          "height": 290
        },
        "id": "AkBsrsXMzoWR",
        "outputId": "1508c692-4cbd-4438-b287-3ad2192b4b9f"
      },
      "source": [
        "plt.semilogx(history.history[\"lr\"], history.history[\"loss\"])\n",
        "plt.axis([1e-8, 1e-4, 0, 30])"
      ],
      "execution_count": 7,
      "outputs": [
        {
          "output_type": "execute_result",
          "data": {
            "text/plain": [
              "(1e-08, 0.0001, 0.0, 30.0)"
            ]
          },
          "metadata": {},
          "execution_count": 7
        },
        {
          "output_type": "display_data",
          "data": {
            "image/png": "[encoded data removed]",
            "text/plain": [
              "<Figure size 432x288 with 1 Axes>"
            ]
          },
          "metadata": {
            "needs_background": "light"
          }
        }
      ]
    },
    {
      "cell_type": "code",
      "metadata": {
        "id": "4uh-97bpLZCA"
      },
      "source": [
        "tf.keras.backend.clear_session()\n",
        "tf.random.set_seed(51)\n",
        "np.random.seed(51)\n",
        "\n",
        "tf.keras.backend.clear_session()\n",
        "dataset = windowed_dataset(x_train, window_size, batch_size, shuffle_buffer_size)\n",
        "\n",
        "model = tf.keras.models.Sequential([\n",
        "  tf.keras.layers.Lambda(lambda x: tf.expand_dims(x, axis=-1),\n",
        "                      input_shape=[None]),\n",
        "   tf.keras.layers.Bidirectional(tf.keras.layers.LSTM(32, return_sequences=True)),\n",
        "  tf.keras.layers.Bidirectional(tf.keras.layers.LSTM(32)),\n",
        "  tf.keras.layers.Dense(1),\n",
        "  tf.keras.layers.Lambda(lambda x: x * 100.0)\n",
        "])\n",
        "\n",
        "\n",
        "model.compile(loss=\"mse\", optimizer=tf.keras.optimizers.SGD(learning_rate=5e-5, momentum=0.9),metrics=[\"mae\"])\n",
        "history = model.fit(dataset,epochs=500,verbose=0)"
      ],
      "execution_count": 16,
      "outputs": []
    },
    {
      "cell_type": "code",
      "metadata": {
        "colab": {
          "base_uri": "https://localhost:8080/",
          "height": 388
        },
        "id": "icGDaND7z0ne",
        "outputId": "4c3ac2a0-2e7b-46e0-9615-90e5997c8c71"
      },
      "source": [
        "forecast = []\n",
        "results = []\n",
        "for time in range(len(series) - window_size):\n",
        "  forecast.append(model.predict(series[time:time + window_size][np.newaxis]))\n",
        "\n",
        "forecast = forecast[split_time-window_size:]\n",
        "results = np.array(forecast)[:, 0, 0]\n",
        "\n",
        "\n",
        "plt.figure(figsize=(10, 6))\n",
        "\n",
        "plot_series(time_valid, x_valid)\n",
        "plot_series(time_valid, results)"
      ],
      "execution_count": 9,
      "outputs": [
        {
          "output_type": "display_data",
          "data": {
            "image/png": "[encoded data removed]",
            "text/plain": [
              "<Figure size 720x432 with 1 Axes>"
            ]
          },
          "metadata": {
            "needs_background": "light"
          }
        }
      ]
    },
    {
      "cell_type": "code",
      "metadata": {
        "colab": {
          "base_uri": "https://localhost:8080/"
        },
        "id": "KfPeqI7rz4LD",
        "outputId": "4b6657fb-3d1a-4e8b-b4c4-66bdfb060dc4"
      },
      "source": [
        "tf.keras.metrics.mean_absolute_error(x_valid, results).numpy()"
      ],
      "execution_count": 10,
      "outputs": [
        {
          "output_type": "execute_result",
          "data": {
            "text/plain": [
              "nan"
            ]
          },
          "metadata": {},
          "execution_count": 10
        }
      ]
    },
    {
      "cell_type": "code",
      "metadata": {
        "colab": {
          "base_uri": "https://localhost:8080/",
          "height": 607
        },
        "id": "JUsdZB_tzDLe",
        "outputId": "13938fda-c470-4e74-e4fe-bb928c4c9bb5"
      },
      "source": [
        "import matplotlib.image  as mpimg\n",
        "import matplotlib.pyplot as plt\n",
        "\n",
        "#-----------------------------------------------------------\n",
        "# Retrieve a list of list results on training and test data\n",
        "# sets for each training epoch\n",
        "#-----------------------------------------------------------\n",
        "mae=history.history['mae']\n",
        "loss=history.history['loss']\n",
        "\n",
        "epochs=range(len(loss)) # Get number of epochs\n",
        "\n",
        "#------------------------------------------------\n",
        "# Plot MAE and Loss\n",
        "#------------------------------------------------\n",
        "plt.plot(epochs, mae, 'r')\n",
        "plt.plot(epochs, loss, 'b')\n",
        "plt.title('MAE and Loss')\n",
        "plt.xlabel(\"Epochs\")\n",
        "plt.ylabel(\"Accuracy\")\n",
        "plt.legend([\"MAE\", \"Loss\"])\n",
        "\n",
        "plt.figure()\n",
        "\n",
        "epochs_zoom = epochs[200:]\n",
        "mae_zoom = mae[200:]\n",
        "loss_zoom = loss[200:]\n",
        "\n",
        "#------------------------------------------------\n",
        "# Plot Zoomed MAE and Loss\n",
        "#------------------------------------------------\n",
        "plt.plot(epochs_zoom, mae_zoom, 'r')\n",
        "plt.plot(epochs_zoom, loss_zoom, 'b')\n",
        "plt.title('MAE and Loss')\n",
        "plt.xlabel(\"Epochs\")\n",
        "plt.ylabel(\"Accuracy\")\n",
        "plt.legend([\"MAE\", \"Loss\"])\n",
        "\n",
        "plt.figure()"
      ],
      "execution_count": 14,
      "outputs": [
        {
          "output_type": "execute_result",
          "data": {
            "text/plain": [
              "<Figure size 432x288 with 0 Axes>"
            ]
          },
          "metadata": {},
          "execution_count": 14
        },
        {
          "output_type": "display_data",
          "data": {
            "image/png": "[encoded data removed]",
            "text/plain": [
              "<Figure size 432x288 with 1 Axes>"
            ]
          },
          "metadata": {
            "needs_background": "light"
          }
        },
        {
          "output_type": "display_data",
          "data": {
            "image/png": "[encoded data removed]",
            "text/plain": [
              "<Figure size 432x288 with 1 Axes>"
            ]
          },
          "metadata": {
            "needs_background": "light"
          }
        },
        {
          "output_type": "display_data",
          "data": {
            "text/plain": [
              "<Figure size 432x288 with 0 Axes>"
            ]
          },
          "metadata": {}
        }
      ]
    },
    {
      "cell_type": "code",
      "metadata": {
        "colab": {
          "base_uri": "https://localhost:8080/"
        },
        "id": "3CGaYFxXNEAK",
        "outputId": "ea09c032-3eb6-4de7-d8ab-61b93d81e736"
      },
      "source": [
        "tf.keras.backend.clear_session()\n",
        "dataset = windowed_dataset(x_train, window_size, batch_size, shuffle_buffer_size)\n",
        "\n",
        "model = tf.keras.models.Sequential([\n",
        "  tf.keras.layers.Lambda(lambda x: tf.expand_dims(x, axis=-1),\n",
        "                      input_shape=[None]),\n",
        "  tf.keras.layers.Bidirectional(tf.keras.layers.LSTM(32, return_sequences=True)),\n",
        "  tf.keras.layers.Bidirectional(tf.keras.layers.LSTM(32)),\n",
        "  tf.keras.layers.Dense(1),\n",
        "  tf.keras.layers.Lambda(lambda x: x * 100.0)\n",
        "])\n",
        "\n",
        "\n",
        "model.compile(loss=\"mse\", optimizer=tf.keras.optimizers.SGD(lr=5e-6, momentum=0.9))\n",
        "model.fit(dataset,epochs=100, verbose=0)"
      ],
      "execution_count": 12,
      "outputs": [
        {
          "output_type": "stream",
          "text": [
            "/usr/local/lib/python3.7/dist-packages/keras/optimizer_v2/optimizer_v2.py:356: UserWarning: The `lr` argument is deprecated, use `learning_rate` instead.\n",
            "  \"The `lr` argument is deprecated, use `learning_rate` instead.\")\n"
          ],
          "name": "stderr"
        },
        {
          "output_type": "execute_result",
          "data": {
            "text/plain": [
              "<keras.callbacks.History at 0x7fa112f672d0>"
            ]
          },
          "metadata": {},
          "execution_count": 12
        }
      ]
    },
    {
      "cell_type": "code",
      "metadata": {
        "colab": {
          "base_uri": "https://localhost:8080/"
        },
        "id": "FJ3R8ysauz9e",
        "outputId": "61a8a997-e225-4999-8a2d-0d5ea779c46a"
      },
      "source": [
        "tf.keras.backend.clear_session()\n",
        "dataset = windowed_dataset(x_train, window_size, batch_size, shuffle_buffer_size)\n",
        "\n",
        "model = tf.keras.models.Sequential([\n",
        "  tf.keras.layers.Lambda(lambda x: tf.expand_dims(x, axis=-1),\n",
        "                      input_shape=[None]),\n",
        "  tf.keras.layers.Bidirectional(tf.keras.layers.LSTM(32, return_sequences=True)),\n",
        "  tf.keras.layers.Bidirectional(tf.keras.layers.LSTM(32, return_sequences=True)),\n",
        "  tf.keras.layers.Bidirectional(tf.keras.layers.LSTM(32)),\n",
        "  tf.keras.layers.Dense(1),\n",
        "  tf.keras.layers.Lambda(lambda x: x * 100.0)\n",
        "])\n",
        "\n",
        "\n",
        "model.compile(loss=\"mse\", optimizer=tf.keras.optimizers.SGD(lr=5e-6, momentum=0.9))\n",
        "model.fit(dataset,epochs=100)"
      ],
      "execution_count": 13,
      "outputs": [
        {
          "output_type": "stream",
          "text": [
            "/usr/local/lib/python3.7/dist-packages/keras/optimizer_v2/optimizer_v2.py:356: UserWarning: The `lr` argument is deprecated, use `learning_rate` instead.\n",
            "  \"The `lr` argument is deprecated, use `learning_rate` instead.\")\n"
          ],
          "name": "stderr"
        },
        {
          "output_type": "stream",
          "text": [
            "Epoch 1/100\n",
            "31/31 [==============================] - 10s 34ms/step - loss: 928.4700\n",
            "Epoch 2/100\n",
            "31/31 [==============================] - 1s 33ms/step - loss: 217.2408\n",
            "Epoch 3/100\n",
            "31/31 [==============================] - 1s 34ms/step - loss: 136.5689\n",
            "Epoch 4/100\n",
            "31/31 [==============================] - 1s 34ms/step - loss: 80.9483\n",
            "Epoch 5/100\n",
            "31/31 [==============================] - 1s 33ms/step - loss: 82.6928\n",
            "Epoch 6/100\n",
            "31/31 [==============================] - 1s 33ms/step - loss: 71.4295\n",
            "Epoch 7/100\n",
            "31/31 [==============================] - 1s 33ms/step - loss: 57.6750\n",
            "Epoch 8/100\n",
            "31/31 [==============================] - 1s 34ms/step - loss: 57.7272\n",
            "Epoch 9/100\n",
            "31/31 [==============================] - 1s 33ms/step - loss: 57.4727\n",
            "Epoch 10/100\n",
            "31/31 [==============================] - 1s 34ms/step - loss: 75.8812\n",
            "Epoch 11/100\n",
            "31/31 [==============================] - 1s 34ms/step - loss: 57.2099\n",
            "Epoch 12/100\n",
            "31/31 [==============================] - 1s 34ms/step - loss: 63.2189\n",
            "Epoch 13/100\n",
            "31/31 [==============================] - 1s 33ms/step - loss: 60.1544\n",
            "Epoch 14/100\n",
            "31/31 [==============================] - 1s 34ms/step - loss: 54.3563\n",
            "Epoch 15/100\n",
            "31/31 [==============================] - 1s 33ms/step - loss: 64.4546\n",
            "Epoch 16/100\n",
            "31/31 [==============================] - 1s 34ms/step - loss: 65.7603\n",
            "Epoch 17/100\n",
            "31/31 [==============================] - 1s 34ms/step - loss: 61.5797\n",
            "Epoch 18/100\n",
            "31/31 [==============================] - 1s 34ms/step - loss: 55.2829\n",
            "Epoch 19/100\n",
            "31/31 [==============================] - 1s 33ms/step - loss: 50.0724\n",
            "Epoch 20/100\n",
            "31/31 [==============================] - 1s 33ms/step - loss: 56.5490\n",
            "Epoch 21/100\n",
            "31/31 [==============================] - 1s 33ms/step - loss: 53.6581\n",
            "Epoch 22/100\n",
            "31/31 [==============================] - 1s 33ms/step - loss: 57.1595\n",
            "Epoch 23/100\n",
            "31/31 [==============================] - 1s 33ms/step - loss: 64.6787\n",
            "Epoch 24/100\n",
            "31/31 [==============================] - 1s 34ms/step - loss: 73.7484\n",
            "Epoch 25/100\n",
            "31/31 [==============================] - 1s 34ms/step - loss: 55.4960\n",
            "Epoch 26/100\n",
            "31/31 [==============================] - 1s 33ms/step - loss: 58.7479\n",
            "Epoch 27/100\n",
            "31/31 [==============================] - 1s 33ms/step - loss: 58.8851\n",
            "Epoch 28/100\n",
            "31/31 [==============================] - 1s 34ms/step - loss: 67.1491\n",
            "Epoch 29/100\n",
            "31/31 [==============================] - 1s 34ms/step - loss: 52.7213\n",
            "Epoch 30/100\n",
            "31/31 [==============================] - 1s 33ms/step - loss: 51.7924\n",
            "Epoch 31/100\n",
            "31/31 [==============================] - 1s 34ms/step - loss: 49.6658\n",
            "Epoch 32/100\n",
            "31/31 [==============================] - 1s 34ms/step - loss: 53.7833\n",
            "Epoch 33/100\n",
            "31/31 [==============================] - 1s 34ms/step - loss: 53.6286\n",
            "Epoch 34/100\n",
            "31/31 [==============================] - 1s 33ms/step - loss: 59.7164\n",
            "Epoch 35/100\n",
            "31/31 [==============================] - 1s 34ms/step - loss: 55.2781\n",
            "Epoch 36/100\n",
            "31/31 [==============================] - 1s 34ms/step - loss: 51.4448\n",
            "Epoch 37/100\n",
            "31/31 [==============================] - 1s 33ms/step - loss: 48.1874\n",
            "Epoch 38/100\n",
            "31/31 [==============================] - 1s 33ms/step - loss: 50.5395\n",
            "Epoch 39/100\n",
            "31/31 [==============================] - 1s 33ms/step - loss: 50.4063\n",
            "Epoch 40/100\n",
            "31/31 [==============================] - 1s 33ms/step - loss: 55.5711\n",
            "Epoch 41/100\n",
            "31/31 [==============================] - 1s 35ms/step - loss: 49.1688\n",
            "Epoch 42/100\n",
            "31/31 [==============================] - 1s 34ms/step - loss: 57.5374\n",
            "Epoch 43/100\n",
            "31/31 [==============================] - 1s 34ms/step - loss: 58.1462\n",
            "Epoch 44/100\n",
            "31/31 [==============================] - 1s 33ms/step - loss: 48.8546\n",
            "Epoch 45/100\n",
            "31/31 [==============================] - 1s 34ms/step - loss: 49.0077\n",
            "Epoch 46/100\n",
            "31/31 [==============================] - 1s 34ms/step - loss: 50.4395\n",
            "Epoch 47/100\n",
            "31/31 [==============================] - 1s 33ms/step - loss: 56.7693\n",
            "Epoch 48/100\n",
            "31/31 [==============================] - 1s 34ms/step - loss: 48.5549\n",
            "Epoch 49/100\n",
            "31/31 [==============================] - 1s 34ms/step - loss: 45.8487\n",
            "Epoch 50/100\n",
            "31/31 [==============================] - 1s 35ms/step - loss: 45.0596\n",
            "Epoch 51/100\n",
            "31/31 [==============================] - 1s 33ms/step - loss: 46.3508\n",
            "Epoch 52/100\n",
            "31/31 [==============================] - 1s 33ms/step - loss: 46.5966\n",
            "Epoch 53/100\n",
            "31/31 [==============================] - 1s 34ms/step - loss: 51.8971\n",
            "Epoch 54/100\n",
            "31/31 [==============================] - 1s 34ms/step - loss: 45.3935\n",
            "Epoch 55/100\n",
            "31/31 [==============================] - 1s 34ms/step - loss: 47.1627\n",
            "Epoch 56/100\n",
            "31/31 [==============================] - 1s 33ms/step - loss: 45.3956\n",
            "Epoch 57/100\n",
            "31/31 [==============================] - 1s 34ms/step - loss: 52.8005\n",
            "Epoch 58/100\n",
            "31/31 [==============================] - 1s 33ms/step - loss: 46.4618\n",
            "Epoch 59/100\n",
            "31/31 [==============================] - 1s 33ms/step - loss: 45.6451\n",
            "Epoch 60/100\n",
            "31/31 [==============================] - 1s 33ms/step - loss: 46.1699\n",
            "Epoch 61/100\n",
            "31/31 [==============================] - 1s 34ms/step - loss: 49.5233\n",
            "Epoch 62/100\n",
            "31/31 [==============================] - 1s 33ms/step - loss: 46.5658\n",
            "Epoch 63/100\n",
            "31/31 [==============================] - 1s 34ms/step - loss: 54.5986\n",
            "Epoch 64/100\n",
            "31/31 [==============================] - 1s 33ms/step - loss: 57.4114\n",
            "Epoch 65/100\n",
            "31/31 [==============================] - 1s 33ms/step - loss: 45.1793\n",
            "Epoch 66/100\n",
            "31/31 [==============================] - 1s 34ms/step - loss: 43.7458\n",
            "Epoch 67/100\n",
            "31/31 [==============================] - 1s 33ms/step - loss: 47.0155\n",
            "Epoch 68/100\n",
            "31/31 [==============================] - 1s 34ms/step - loss: 46.7783\n",
            "Epoch 69/100\n",
            "31/31 [==============================] - 1s 34ms/step - loss: 44.3182\n",
            "Epoch 70/100\n",
            "31/31 [==============================] - 1s 34ms/step - loss: 47.5018\n",
            "Epoch 71/100\n",
            "31/31 [==============================] - 1s 35ms/step - loss: 48.6032\n",
            "Epoch 72/100\n",
            "31/31 [==============================] - 1s 34ms/step - loss: 45.0890\n",
            "Epoch 73/100\n",
            "31/31 [==============================] - 1s 34ms/step - loss: 50.3149\n",
            "Epoch 74/100\n",
            "31/31 [==============================] - 1s 33ms/step - loss: 45.6050\n",
            "Epoch 75/100\n",
            "31/31 [==============================] - 1s 34ms/step - loss: 43.5711\n",
            "Epoch 76/100\n",
            "31/31 [==============================] - 1s 34ms/step - loss: 53.5506\n",
            "Epoch 77/100\n",
            "31/31 [==============================] - 1s 34ms/step - loss: 46.6364\n",
            "Epoch 78/100\n",
            "31/31 [==============================] - 1s 33ms/step - loss: 46.4273\n",
            "Epoch 79/100\n",
            "31/31 [==============================] - 1s 34ms/step - loss: 44.7498\n",
            "Epoch 80/100\n",
            "31/31 [==============================] - 1s 34ms/step - loss: 44.0500\n",
            "Epoch 81/100\n",
            "31/31 [==============================] - 1s 33ms/step - loss: 44.5130\n",
            "Epoch 82/100\n",
            "31/31 [==============================] - 1s 33ms/step - loss: 46.9465\n",
            "Epoch 83/100\n",
            "23/31 [=====================>........] - ETA: 0s - loss: 45.1563Epoch 84/100\n",
            "31/31 [==============================] - 1s 34ms/step - loss: 45.5813\n",
            "Epoch 85/100\n",
            "31/31 [==============================] - 1s 34ms/step - loss: 45.5684\n",
            "Epoch 86/100\n",
            "31/31 [==============================] - 1s 33ms/step - loss: 46.1348\n",
            "Epoch 87/100\n",
            "31/31 [==============================] - 1s 34ms/step - loss: 58.7166\n",
            "Epoch 88/100\n",
            "31/31 [==============================] - 1s 34ms/step - loss: 46.1523\n",
            "Epoch 89/100\n",
            "31/31 [==============================] - 1s 34ms/step - loss: 45.4002\n",
            "Epoch 90/100\n",
            "31/31 [==============================] - 1s 33ms/step - loss: 51.5890\n",
            "Epoch 91/100\n",
            "31/31 [==============================] - 1s 34ms/step - loss: 51.7391\n",
            "Epoch 92/100\n",
            "31/31 [==============================] - 1s 34ms/step - loss: 45.6551\n",
            "Epoch 93/100\n",
            "31/31 [==============================] - 1s 33ms/step - loss: 44.1805\n",
            "Epoch 94/100\n",
            "31/31 [==============================] - 1s 34ms/step - loss: 45.2019\n",
            "Epoch 95/100\n",
            "31/31 [==============================] - 1s 34ms/step - loss: 51.3692\n",
            "Epoch 96/100\n",
            "31/31 [==============================] - 1s 33ms/step - loss: 55.1267\n",
            "Epoch 97/100\n",
            "31/31 [==============================] - 1s 33ms/step - loss: 47.4651\n",
            "Epoch 98/100\n",
            "31/31 [==============================] - 1s 34ms/step - loss: 45.7655\n",
            "Epoch 99/100\n",
            "31/31 [==============================] - 1s 33ms/step - loss: 46.6677\n",
            "Epoch 100/100\n",
            "31/31 [==============================] - 1s 34ms/step - loss: 46.5309\n"
          ],
          "name": "stdout"
        },
        {
          "output_type": "execute_result",
          "data": {
            "text/plain": [
              "<keras.callbacks.History at 0x7fa1109be690>"
            ]
          },
          "metadata": {},
          "execution_count": 13
        }
      ]
    }
  ]
}