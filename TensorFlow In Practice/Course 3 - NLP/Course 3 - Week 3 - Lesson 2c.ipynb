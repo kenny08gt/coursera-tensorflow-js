{
  "nbformat": 4,
  "nbformat_minor": 0,
  "metadata": {
    "accelerator": "GPU",
    "colab": {
      "name": "Course 3 - Week 3 - Lesson 2c.ipynb",
      "provenance": [],
      "collapsed_sections": [],
      "toc_visible": true,
      "include_colab_link": true
    },
    "kernelspec": {
      "display_name": "Python 3",
      "language": "python",
      "name": "python3"
    },
    "language_info": {
      "codemirror_mode": {
        "name": "ipython",
        "version": 3
      },
      "file_extension": ".py",
      "mimetype": "text/x-python",
      "name": "python",
      "nbconvert_exporter": "python",
      "pygments_lexer": "ipython3",
      "version": "3.7.6"
    }
  },
  "cells": [
    {
      "cell_type": "markdown",
      "metadata": {
        "id": "view-in-github",
        "colab_type": "text"
      },
      "source": [
        "<a href=\"https://colab.research.google.com/github/kenny08gt/coursera-tensorflow-js/blob/main/TensorFlow%20In%20Practice/Course%203%20-%20NLP/Course%203%20-%20Week%203%20-%20Lesson%202c.ipynb\" target=\"_parent\"><img src=\"https://colab.research.google.com/assets/colab-badge.svg\" alt=\"Open In Colab\"/></a>"
      ]
    },
    {
      "cell_type": "code",
      "metadata": {
        "id": "zX4Kg8DUTKWO"
      },
      "source": [
        "#@title Licensed under the Apache License, Version 2.0 (the \"License\");\n",
        "# you may not use this file except in compliance with the License.\n",
        "# You may obtain a copy of the License at\n",
        "#\n",
        "# https://www.apache.org/licenses/LICENSE-2.0\n",
        "#\n",
        "# Unless required by applicable law or agreed to in writing, software\n",
        "# distributed under the License is distributed on an \"AS IS\" BASIS,\n",
        "# WITHOUT WARRANTIES OR CONDITIONS OF ANY KIND, either express or implied.\n",
        "# See the License for the specific language governing permissions and\n",
        "# limitations under the License."
      ],
      "execution_count": null,
      "outputs": []
    },
    {
      "cell_type": "markdown",
      "metadata": {
        "id": "nvx_RvoK7QUc"
      },
      "source": [
        "<a href=\"https://colab.research.google.com/github/lmoroney/dlaicourse/blob/master/TensorFlow%20In%20Practice/Course%203%20-%20NLP/Course%203%20-%20Week%203%20-%20Lesson%202c.ipynb\" target=\"_parent\"><img src=\"https://colab.research.google.com/assets/colab-badge.svg\" alt=\"Open In Colab\"/></a>"
      ]
    },
    {
      "cell_type": "code",
      "metadata": {
        "colab": {
          "base_uri": "https://localhost:8080/"
        },
        "id": "jGwXGIXvFhXW",
        "outputId": "61bdfb40-50fc-4633-96bb-3c05b0e118d5"
      },
      "source": [
        "import numpy as np\n",
        "\n",
        "import json\n",
        "import tensorflow as tf\n",
        "\n",
        "from tensorflow.keras.preprocessing.text import Tokenizer\n",
        "from tensorflow.keras.preprocessing.sequence import pad_sequences\n",
        "\n",
        "!wget --no-check-certificate \\\n",
        "    https://storage.googleapis.com/laurencemoroney-blog.appspot.com/sarcasm.json \\\n",
        "    -O /tmp/sarcasm.json\n",
        "\n",
        "vocab_size = 1000\n",
        "embedding_dim = 16\n",
        "max_length = 120\n",
        "trunc_type='post'\n",
        "padding_type='post'\n",
        "oov_tok = \"<OOV>\"\n",
        "training_size = 20000\n",
        "\n",
        "\n",
        "with open(\"/tmp/sarcasm.json\", 'r') as f:\n",
        "    datastore = json.load(f)\n",
        "\n",
        "\n",
        "sentences = []\n",
        "labels = []\n",
        "urls = []\n",
        "for item in datastore:\n",
        "    sentences.append(item['headline'])\n",
        "    labels.append(item['is_sarcastic'])\n",
        "\n",
        "training_sentences = sentences[0:training_size]\n",
        "testing_sentences = sentences[training_size:]\n",
        "training_labels = labels[0:training_size]\n",
        "testing_labels = labels[training_size:]\n",
        "\n",
        "tokenizer = Tokenizer(num_words=vocab_size, oov_token=oov_tok)\n",
        "tokenizer.fit_on_texts(training_sentences)\n",
        "\n",
        "word_index = tokenizer.word_index\n",
        "\n",
        "training_sequences = tokenizer.texts_to_sequences(training_sentences)\n",
        "training_padded = pad_sequences(training_sequences, maxlen=max_length, padding=padding_type, truncating=trunc_type)\n",
        "\n",
        "testing_sequences = tokenizer.texts_to_sequences(testing_sentences)\n",
        "testing_padded = pad_sequences(testing_sequences, maxlen=max_length, padding=padding_type, truncating=trunc_type)\n",
        "\n",
        "model = tf.keras.Sequential([\n",
        "    tf.keras.layers.Embedding(vocab_size, embedding_dim, input_length=max_length),\n",
        "    tf.keras.layers.Conv1D(128, 5, activation='relu'),\n",
        "    tf.keras.layers.GlobalMaxPooling1D(),\n",
        "    tf.keras.layers.Dense(24, activation='relu'),\n",
        "    tf.keras.layers.Dense(1, activation='sigmoid')\n",
        "])\n",
        "model.compile(loss='binary_crossentropy',optimizer='adam',metrics=['accuracy'])\n",
        "model.summary()\n",
        "\n",
        "num_epochs = 50\n",
        "\n",
        "training_padded = np.array(training_padded)\n",
        "training_labels = np.array(training_labels)\n",
        "testing_padded = np.array(testing_padded)\n",
        "testing_labels = np.array(testing_labels)\n",
        "\n",
        "history = model.fit(training_padded, training_labels, epochs=num_epochs, validation_data=(testing_padded, testing_labels), verbose=1)\n"
      ],
      "execution_count": 1,
      "outputs": [
        {
          "output_type": "stream",
          "text": [
            "--2021-08-04 02:18:45--  https://storage.googleapis.com/laurencemoroney-blog.appspot.com/sarcasm.json\n",
            "Resolving storage.googleapis.com (storage.googleapis.com)... 173.194.194.128, 173.194.195.128, 173.194.197.128, ...\n",
            "Connecting to storage.googleapis.com (storage.googleapis.com)|173.194.194.128|:443... connected.\n",
            "HTTP request sent, awaiting response... 200 OK\n",
            "Length: 5643545 (5.4M) [application/json]\n",
            "Saving to: ‘/tmp/sarcasm.json’\n",
            "\n",
            "/tmp/sarcasm.json   100%[===================>]   5.38M  --.-KB/s    in 0.09s   \n",
            "\n",
            "2021-08-04 02:18:45 (63.0 MB/s) - ‘/tmp/sarcasm.json’ saved [5643545/5643545]\n",
            "\n",
            "Model: \"sequential\"\n",
            "_________________________________________________________________\n",
            "Layer (type)                 Output Shape              Param #   \n",
            "=================================================================\n",
            "embedding (Embedding)        (None, 120, 16)           16000     \n",
            "_________________________________________________________________\n",
            "conv1d (Conv1D)              (None, 116, 128)          10368     \n",
            "_________________________________________________________________\n",
            "global_max_pooling1d (Global (None, 128)               0         \n",
            "_________________________________________________________________\n",
            "dense (Dense)                (None, 24)                3096      \n",
            "_________________________________________________________________\n",
            "dense_1 (Dense)              (None, 1)                 25        \n",
            "=================================================================\n",
            "Total params: 29,489\n",
            "Trainable params: 29,489\n",
            "Non-trainable params: 0\n",
            "_________________________________________________________________\n",
            "Epoch 1/50\n",
            "625/625 [==============================] - 33s 5ms/step - loss: 0.4689 - accuracy: 0.7638 - val_loss: 0.4074 - val_accuracy: 0.8135\n",
            "Epoch 2/50\n",
            "625/625 [==============================] - 3s 5ms/step - loss: 0.3554 - accuracy: 0.8400 - val_loss: 0.3958 - val_accuracy: 0.8238\n",
            "Epoch 3/50\n",
            "625/625 [==============================] - 3s 4ms/step - loss: 0.3131 - accuracy: 0.8613 - val_loss: 0.4032 - val_accuracy: 0.8140\n",
            "Epoch 4/50\n",
            "625/625 [==============================] - 3s 4ms/step - loss: 0.2780 - accuracy: 0.8812 - val_loss: 0.4137 - val_accuracy: 0.8217\n",
            "Epoch 5/50\n",
            "625/625 [==============================] - 3s 5ms/step - loss: 0.2425 - accuracy: 0.8992 - val_loss: 0.4260 - val_accuracy: 0.8177\n",
            "Epoch 6/50\n",
            "625/625 [==============================] - 3s 4ms/step - loss: 0.2093 - accuracy: 0.9161 - val_loss: 0.4678 - val_accuracy: 0.8109\n",
            "Epoch 7/50\n",
            "625/625 [==============================] - 3s 5ms/step - loss: 0.1757 - accuracy: 0.9314 - val_loss: 0.5367 - val_accuracy: 0.8046\n",
            "Epoch 8/50\n",
            "625/625 [==============================] - 3s 4ms/step - loss: 0.1458 - accuracy: 0.9452 - val_loss: 0.5799 - val_accuracy: 0.8047\n",
            "Epoch 9/50\n",
            "625/625 [==============================] - 3s 5ms/step - loss: 0.1208 - accuracy: 0.9566 - val_loss: 0.6657 - val_accuracy: 0.7980\n",
            "Epoch 10/50\n",
            "625/625 [==============================] - 3s 4ms/step - loss: 0.1000 - accuracy: 0.9648 - val_loss: 0.7410 - val_accuracy: 0.7955\n",
            "Epoch 11/50\n",
            "625/625 [==============================] - 3s 4ms/step - loss: 0.0830 - accuracy: 0.9713 - val_loss: 0.8702 - val_accuracy: 0.7948\n",
            "Epoch 12/50\n",
            "625/625 [==============================] - 3s 4ms/step - loss: 0.0723 - accuracy: 0.9748 - val_loss: 0.9311 - val_accuracy: 0.7939\n",
            "Epoch 13/50\n",
            "625/625 [==============================] - 3s 5ms/step - loss: 0.0623 - accuracy: 0.9785 - val_loss: 1.0211 - val_accuracy: 0.7945\n",
            "Epoch 14/50\n",
            "625/625 [==============================] - 3s 5ms/step - loss: 0.0544 - accuracy: 0.9821 - val_loss: 1.0783 - val_accuracy: 0.8024\n",
            "Epoch 15/50\n",
            "625/625 [==============================] - 3s 4ms/step - loss: 0.0511 - accuracy: 0.9819 - val_loss: 1.1635 - val_accuracy: 0.8013\n",
            "Epoch 16/50\n",
            "625/625 [==============================] - 3s 4ms/step - loss: 0.0478 - accuracy: 0.9831 - val_loss: 1.2248 - val_accuracy: 0.7874\n",
            "Epoch 17/50\n",
            "625/625 [==============================] - 3s 5ms/step - loss: 0.0407 - accuracy: 0.9861 - val_loss: 1.3229 - val_accuracy: 0.7973\n",
            "Epoch 18/50\n",
            "625/625 [==============================] - 3s 4ms/step - loss: 0.0359 - accuracy: 0.9867 - val_loss: 1.3722 - val_accuracy: 0.7897\n",
            "Epoch 19/50\n",
            "625/625 [==============================] - 3s 5ms/step - loss: 0.0377 - accuracy: 0.9857 - val_loss: 1.4529 - val_accuracy: 0.7880\n",
            "Epoch 20/50\n",
            "625/625 [==============================] - 3s 4ms/step - loss: 0.0394 - accuracy: 0.9852 - val_loss: 1.4746 - val_accuracy: 0.7915\n",
            "Epoch 21/50\n",
            "625/625 [==============================] - 3s 4ms/step - loss: 0.0349 - accuracy: 0.9864 - val_loss: 1.4647 - val_accuracy: 0.7931\n",
            "Epoch 22/50\n",
            "625/625 [==============================] - 3s 4ms/step - loss: 0.0295 - accuracy: 0.9889 - val_loss: 1.6149 - val_accuracy: 0.7924\n",
            "Epoch 23/50\n",
            "625/625 [==============================] - 3s 4ms/step - loss: 0.0317 - accuracy: 0.9878 - val_loss: 1.5851 - val_accuracy: 0.7903\n",
            "Epoch 24/50\n",
            "625/625 [==============================] - 3s 5ms/step - loss: 0.0367 - accuracy: 0.9850 - val_loss: 1.6655 - val_accuracy: 0.7934\n",
            "Epoch 25/50\n",
            "625/625 [==============================] - 3s 4ms/step - loss: 0.0302 - accuracy: 0.9879 - val_loss: 1.7298 - val_accuracy: 0.7869\n",
            "Epoch 26/50\n",
            "625/625 [==============================] - 3s 4ms/step - loss: 0.0338 - accuracy: 0.9865 - val_loss: 1.7862 - val_accuracy: 0.7961\n",
            "Epoch 27/50\n",
            "625/625 [==============================] - 3s 4ms/step - loss: 0.0280 - accuracy: 0.9884 - val_loss: 1.7912 - val_accuracy: 0.7930\n",
            "Epoch 28/50\n",
            "625/625 [==============================] - 3s 4ms/step - loss: 0.0206 - accuracy: 0.9922 - val_loss: 1.9084 - val_accuracy: 0.7839\n",
            "Epoch 29/50\n",
            "625/625 [==============================] - 3s 4ms/step - loss: 0.0202 - accuracy: 0.9918 - val_loss: 1.9195 - val_accuracy: 0.7894\n",
            "Epoch 30/50\n",
            "625/625 [==============================] - 3s 4ms/step - loss: 0.0244 - accuracy: 0.9899 - val_loss: 2.0092 - val_accuracy: 0.7898\n",
            "Epoch 31/50\n",
            "625/625 [==============================] - 3s 4ms/step - loss: 0.0370 - accuracy: 0.9858 - val_loss: 1.9430 - val_accuracy: 0.7930\n",
            "Epoch 32/50\n",
            "625/625 [==============================] - 3s 4ms/step - loss: 0.0320 - accuracy: 0.9870 - val_loss: 2.0200 - val_accuracy: 0.7895\n",
            "Epoch 33/50\n",
            "625/625 [==============================] - 3s 4ms/step - loss: 0.0227 - accuracy: 0.9910 - val_loss: 1.9984 - val_accuracy: 0.7901\n",
            "Epoch 34/50\n",
            "625/625 [==============================] - 3s 4ms/step - loss: 0.0204 - accuracy: 0.9911 - val_loss: 2.0864 - val_accuracy: 0.7886\n",
            "Epoch 35/50\n",
            "625/625 [==============================] - 3s 4ms/step - loss: 0.0197 - accuracy: 0.9916 - val_loss: 2.0820 - val_accuracy: 0.7898\n",
            "Epoch 36/50\n",
            "625/625 [==============================] - 3s 4ms/step - loss: 0.0187 - accuracy: 0.9921 - val_loss: 2.2122 - val_accuracy: 0.7910\n",
            "Epoch 37/50\n",
            "625/625 [==============================] - 3s 4ms/step - loss: 0.0256 - accuracy: 0.9892 - val_loss: 2.2659 - val_accuracy: 0.7876\n",
            "Epoch 38/50\n",
            "625/625 [==============================] - 3s 4ms/step - loss: 0.0313 - accuracy: 0.9877 - val_loss: 2.3186 - val_accuracy: 0.7894\n",
            "Epoch 39/50\n",
            "625/625 [==============================] - 3s 4ms/step - loss: 0.0237 - accuracy: 0.9901 - val_loss: 2.2695 - val_accuracy: 0.7895\n",
            "Epoch 40/50\n",
            "625/625 [==============================] - 3s 4ms/step - loss: 0.0205 - accuracy: 0.9913 - val_loss: 2.2947 - val_accuracy: 0.7886\n",
            "Epoch 41/50\n",
            "625/625 [==============================] - 3s 4ms/step - loss: 0.0168 - accuracy: 0.9923 - val_loss: 2.3206 - val_accuracy: 0.7901\n",
            "Epoch 42/50\n",
            "625/625 [==============================] - 3s 4ms/step - loss: 0.0186 - accuracy: 0.9915 - val_loss: 2.2914 - val_accuracy: 0.7918\n",
            "Epoch 43/50\n",
            "625/625 [==============================] - 3s 4ms/step - loss: 0.0248 - accuracy: 0.9898 - val_loss: 2.3114 - val_accuracy: 0.7863\n",
            "Epoch 44/50\n",
            "625/625 [==============================] - 3s 4ms/step - loss: 0.0220 - accuracy: 0.9905 - val_loss: 2.2866 - val_accuracy: 0.7825\n",
            "Epoch 45/50\n",
            "625/625 [==============================] - 3s 5ms/step - loss: 0.0194 - accuracy: 0.9919 - val_loss: 2.4642 - val_accuracy: 0.7877\n",
            "Epoch 46/50\n",
            "625/625 [==============================] - 3s 4ms/step - loss: 0.0232 - accuracy: 0.9906 - val_loss: 2.3227 - val_accuracy: 0.7822\n",
            "Epoch 47/50\n",
            "625/625 [==============================] - 3s 4ms/step - loss: 0.0187 - accuracy: 0.9912 - val_loss: 2.5276 - val_accuracy: 0.7846\n",
            "Epoch 48/50\n",
            "625/625 [==============================] - 3s 4ms/step - loss: 0.0209 - accuracy: 0.9911 - val_loss: 2.3826 - val_accuracy: 0.7891\n",
            "Epoch 49/50\n",
            "625/625 [==============================] - 3s 4ms/step - loss: 0.0182 - accuracy: 0.9915 - val_loss: 2.8726 - val_accuracy: 0.7843\n",
            "Epoch 50/50\n",
            "625/625 [==============================] - 3s 4ms/step - loss: 0.0205 - accuracy: 0.9909 - val_loss: 2.5999 - val_accuracy: 0.7891\n"
          ],
          "name": "stdout"
        }
      ]
    },
    {
      "cell_type": "code",
      "metadata": {
        "colab": {
          "base_uri": "https://localhost:8080/",
          "height": 545
        },
        "id": "g9DC6dmLF8DC",
        "outputId": "e6a0f7c2-6591-4bdc-fe59-f7d16bbb1eca"
      },
      "source": [
        "import matplotlib.pyplot as plt\n",
        "\n",
        "\n",
        "def plot_graphs(history, string):\n",
        "  plt.plot(history.history[string])\n",
        "  plt.plot(history.history['val_'+string])\n",
        "  plt.xlabel(\"Epochs\")\n",
        "  plt.ylabel(string)\n",
        "  plt.legend([string, 'val_'+string])\n",
        "  plt.show()\n",
        "\n",
        "plot_graphs(history, 'accuracy')\n",
        "plot_graphs(history, 'loss')"
      ],
      "execution_count": 2,
      "outputs": [
        {
          "output_type": "display_data",
          "data": {
            "image/png": "[encoded data removed]",
            "text/plain": [
              "<Figure size 432x288 with 1 Axes>"
            ]
          },
          "metadata": {
            "tags": [],
            "needs_background": "light"
          }
        },
        {
          "output_type": "display_data",
          "data": {
            "image/png": "[encoded data removed]",
            "text/plain": [
              "<Figure size 432x288 with 1 Axes>"
            ]
          },
          "metadata": {
            "tags": [],
            "needs_background": "light"
          }
        }
      ]
    },
    {
      "cell_type": "code",
      "metadata": {
        "id": "7ZEZIUppGhdi"
      },
      "source": [
        "model.save(\"test.h5\")"
      ],
      "execution_count": null,
      "outputs": []
    }
  ]
}