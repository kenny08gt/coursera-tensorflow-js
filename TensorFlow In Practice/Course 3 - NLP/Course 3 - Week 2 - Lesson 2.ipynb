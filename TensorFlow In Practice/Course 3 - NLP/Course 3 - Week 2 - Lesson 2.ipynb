{
  "nbformat": 4,
  "nbformat_minor": 0,
  "metadata": {
    "accelerator": "GPU",
    "colab": {
      "name": "Course 3 - Week 2 - Lesson 2.ipynb",
      "provenance": [],
      "collapsed_sections": [],
      "toc_visible": true,
      "include_colab_link": true
    },
    "kernelspec": {
      "display_name": "Python 3",
      "name": "python3"
    }
  },
  "cells": [
    {
      "cell_type": "markdown",
      "metadata": {
        "id": "view-in-github",
        "colab_type": "text"
      },
      "source": [
        "<a href=\"https://colab.research.google.com/github/kenny08gt/coursera-tensorflow-js/blob/main/TensorFlow%20In%20Practice/Course%203%20-%20NLP/Course%203%20-%20Week%202%20-%20Lesson%202.ipynb\" target=\"_parent\"><img src=\"https://colab.research.google.com/assets/colab-badge.svg\" alt=\"Open In Colab\"/></a>"
      ]
    },
    {
      "cell_type": "code",
      "metadata": {
        "id": "zX4Kg8DUTKWO"
      },
      "source": [
        "#@title Licensed under the Apache License, Version 2.0 (the \"License\");\n",
        "# you may not use this file except in compliance with the License.\n",
        "# You may obtain a copy of the License at\n",
        "#\n",
        "# https://www.apache.org/licenses/LICENSE-2.0\n",
        "#\n",
        "# Unless required by applicable law or agreed to in writing, software\n",
        "# distributed under the License is distributed on an \"AS IS\" BASIS,\n",
        "# WITHOUT WARRANTIES OR CONDITIONS OF ANY KIND, either express or implied.\n",
        "# See the License for the specific language governing permissions and\n",
        "# limitations under the License."
      ],
      "execution_count": null,
      "outputs": []
    },
    {
      "cell_type": "markdown",
      "metadata": {
        "id": "view-in-github"
      },
      "source": [
        "<a href=\"https://colab.research.google.com/github/lmoroney/dlaicourse/blob/master/TensorFlow%20In%20Practice/Course%203%20-%20NLP/Course%203%20-%20Week%202%20-%20Lesson%202.ipynb\" target=\"_parent\"><img src=\"https://colab.research.google.com/assets/colab-badge.svg\" alt=\"Open In Colab\"/></a>"
      ]
    },
    {
      "cell_type": "code",
      "metadata": {
        "id": "4gs9htvM7n_x"
      },
      "source": [
        "# Run this to ensure TensorFlow 2.x is used\n",
        "try:\n",
        "  # %tensorflow_version only exists in Colab.\n",
        "  %tensorflow_version 2.x\n",
        "except Exception:\n",
        "  pass"
      ],
      "execution_count": 1,
      "outputs": []
    },
    {
      "cell_type": "code",
      "metadata": {
        "id": "XYYDvoskkE61"
      },
      "source": [
        "import json\n",
        "import tensorflow as tf\n",
        "\n",
        "from tensorflow.keras.preprocessing.text import Tokenizer\n",
        "from tensorflow.keras.preprocessing.sequence import pad_sequences"
      ],
      "execution_count": 2,
      "outputs": []
    },
    {
      "cell_type": "code",
      "metadata": {
        "id": "0eJSTTYnkJQd"
      },
      "source": [
        "vocab_size = 100\n",
        "embedding_dim = 16\n",
        "max_length = 120\n",
        "trunc_type='post'\n",
        "padding_type='post'\n",
        "oov_tok = \"<OOV>\"\n",
        "training_size = 20000\n"
      ],
      "execution_count": 76,
      "outputs": []
    },
    {
      "cell_type": "code",
      "metadata": {
        "colab": {
          "base_uri": "https://localhost:8080/"
        },
        "id": "BQVuQrZNkPn9",
        "outputId": "c4ff250a-a4be-4265-8c84-5dcc4363feac"
      },
      "source": [
        "!wget --no-check-certificate \\\n",
        "    https://storage.googleapis.com/laurencemoroney-blog.appspot.com/sarcasm.json \\\n",
        "    -O /tmp/sarcasm.json\n"
      ],
      "execution_count": 4,
      "outputs": [
        {
          "output_type": "stream",
          "text": [
            "--2021-08-03 03:59:47--  https://storage.googleapis.com/laurencemoroney-blog.appspot.com/sarcasm.json\n",
            "Resolving storage.googleapis.com (storage.googleapis.com)... 74.125.142.128, 74.125.195.128, 2607:f8b0:400e:c06::80, ...\n",
            "Connecting to storage.googleapis.com (storage.googleapis.com)|74.125.142.128|:443... connected.\n",
            "HTTP request sent, awaiting response... 200 OK\n",
            "Length: 5643545 (5.4M) [application/json]\n",
            "Saving to: ‘/tmp/sarcasm.json’\n",
            "\n",
            "\r/tmp/sarcasm.json     0%[                    ]       0  --.-KB/s               \r/tmp/sarcasm.json   100%[===================>]   5.38M  --.-KB/s    in 0.02s   \n",
            "\n",
            "2021-08-03 03:59:48 (249 MB/s) - ‘/tmp/sarcasm.json’ saved [5643545/5643545]\n",
            "\n"
          ],
          "name": "stdout"
        }
      ]
    },
    {
      "cell_type": "code",
      "metadata": {
        "id": "oaLaaqhNkUPd"
      },
      "source": [
        "with open(\"/tmp/sarcasm.json\", 'r') as f:\n",
        "    datastore = json.load(f)\n",
        "\n",
        "sentences = []\n",
        "labels = []\n",
        "\n",
        "for item in datastore:\n",
        "    sentences.append(item['headline'])\n",
        "    labels.append(item['is_sarcastic'])"
      ],
      "execution_count": 5,
      "outputs": []
    },
    {
      "cell_type": "code",
      "metadata": {
        "id": "S1sD-7v0kYWk"
      },
      "source": [
        "training_sentences = sentences[0:training_size]\n",
        "testing_sentences = sentences[training_size:]\n",
        "training_labels = labels[0:training_size]\n",
        "testing_labels = labels[training_size:]"
      ],
      "execution_count": 66,
      "outputs": []
    },
    {
      "cell_type": "code",
      "metadata": {
        "id": "3u8UB0MCkZ5N"
      },
      "source": [
        "tokenizer = Tokenizer(num_words=vocab_size, oov_token=oov_tok)\n",
        "tokenizer.fit_on_texts(training_sentences)\n",
        "\n",
        "word_index = tokenizer.word_index\n",
        "\n",
        "training_sequences = tokenizer.texts_to_sequences(training_sentences)\n",
        "training_padded = pad_sequences(training_sequences, maxlen=max_length, padding=padding_type, truncating=trunc_type)\n",
        "\n",
        "testing_sequences = tokenizer.texts_to_sequences(testing_sentences)\n",
        "testing_padded = pad_sequences(testing_sequences, maxlen=max_length, padding=padding_type, truncating=trunc_type)"
      ],
      "execution_count": 77,
      "outputs": []
    },
    {
      "cell_type": "code",
      "metadata": {
        "id": "GrAlWBKf99Ya"
      },
      "source": [
        "# Need this block to get it to work with TensorFlow 2.x\n",
        "import numpy as np\n",
        "training_padded = np.array(training_padded)\n",
        "training_labels = np.array(training_labels)\n",
        "testing_padded = np.array(testing_padded)\n",
        "testing_labels = np.array(testing_labels)"
      ],
      "execution_count": 78,
      "outputs": []
    },
    {
      "cell_type": "code",
      "metadata": {
        "id": "FufaT4vlkiDE"
      },
      "source": [
        "model = tf.keras.Sequential([\n",
        "    tf.keras.layers.Embedding(vocab_size, embedding_dim, input_length=max_length),\n",
        "    tf.keras.layers.GlobalAveragePooling1D(),\n",
        "    tf.keras.layers.Dense(32, activation='relu'),\n",
        "    tf.keras.layers.Dense(24, activation='relu'),\n",
        "    tf.keras.layers.Dense(1, activation='sigmoid')\n",
        "])\n",
        "model.compile(loss='binary_crossentropy',optimizer='adam',metrics=['accuracy'])"
      ],
      "execution_count": 79,
      "outputs": []
    },
    {
      "cell_type": "code",
      "metadata": {
        "colab": {
          "base_uri": "https://localhost:8080/"
        },
        "id": "XfDt1hmYkiys",
        "outputId": "9ea4e3ec-f105-4dbd-e1de-5b9ba3679e97"
      },
      "source": [
        "model.summary()\n"
      ],
      "execution_count": 73,
      "outputs": [
        {
          "output_type": "stream",
          "text": [
            "Model: \"sequential_17\"\n",
            "_________________________________________________________________\n",
            "Layer (type)                 Output Shape              Param #   \n",
            "=================================================================\n",
            "embedding_17 (Embedding)     (None, 120, 16)           160000    \n",
            "_________________________________________________________________\n",
            "global_average_pooling1d_15  (None, 16)                0         \n",
            "_________________________________________________________________\n",
            "dense_41 (Dense)             (None, 32)                544       \n",
            "_________________________________________________________________\n",
            "dense_42 (Dense)             (None, 24)                792       \n",
            "_________________________________________________________________\n",
            "dense_43 (Dense)             (None, 1)                 25        \n",
            "=================================================================\n",
            "Total params: 161,361\n",
            "Trainable params: 161,361\n",
            "Non-trainable params: 0\n",
            "_________________________________________________________________\n"
          ],
          "name": "stdout"
        }
      ]
    },
    {
      "cell_type": "code",
      "metadata": {
        "colab": {
          "base_uri": "https://localhost:8080/"
        },
        "id": "2DTKQFf1kkyc",
        "outputId": "8be218cb-509c-4444-d849-64b4ddfca771"
      },
      "source": [
        "num_epochs = 30\n",
        "history = model.fit(training_padded, training_labels, epochs=num_epochs, validation_data=(testing_padded, testing_labels), verbose=2)"
      ],
      "execution_count": 80,
      "outputs": [
        {
          "output_type": "stream",
          "text": [
            "Epoch 1/30\n",
            "625/625 - 3s - loss: 0.6562 - accuracy: 0.5957 - val_loss: 0.5339 - val_accuracy: 0.7245\n",
            "Epoch 2/30\n",
            "625/625 - 2s - loss: 0.5112 - accuracy: 0.7359 - val_loss: 0.5271 - val_accuracy: 0.7351\n",
            "Epoch 3/30\n",
            "625/625 - 2s - loss: 0.4958 - accuracy: 0.7456 - val_loss: 0.5054 - val_accuracy: 0.7313\n",
            "Epoch 4/30\n",
            "625/625 - 2s - loss: 0.4943 - accuracy: 0.7459 - val_loss: 0.5030 - val_accuracy: 0.7316\n",
            "Epoch 5/30\n",
            "625/625 - 2s - loss: 0.4929 - accuracy: 0.7461 - val_loss: 0.4957 - val_accuracy: 0.7459\n",
            "Epoch 6/30\n",
            "625/625 - 2s - loss: 0.4917 - accuracy: 0.7480 - val_loss: 0.4963 - val_accuracy: 0.7408\n",
            "Epoch 7/30\n",
            "625/625 - 2s - loss: 0.4915 - accuracy: 0.7473 - val_loss: 0.4941 - val_accuracy: 0.7432\n",
            "Epoch 8/30\n",
            "625/625 - 2s - loss: 0.4912 - accuracy: 0.7484 - val_loss: 0.4973 - val_accuracy: 0.7393\n",
            "Epoch 9/30\n",
            "625/625 - 2s - loss: 0.4911 - accuracy: 0.7449 - val_loss: 0.4963 - val_accuracy: 0.7406\n",
            "Epoch 10/30\n",
            "625/625 - 2s - loss: 0.4903 - accuracy: 0.7455 - val_loss: 0.5092 - val_accuracy: 0.7427\n",
            "Epoch 11/30\n",
            "625/625 - 2s - loss: 0.4895 - accuracy: 0.7473 - val_loss: 0.4961 - val_accuracy: 0.7402\n",
            "Epoch 12/30\n",
            "625/625 - 2s - loss: 0.4910 - accuracy: 0.7484 - val_loss: 0.4970 - val_accuracy: 0.7490\n",
            "Epoch 13/30\n",
            "625/625 - 2s - loss: 0.4909 - accuracy: 0.7465 - val_loss: 0.4998 - val_accuracy: 0.7503\n",
            "Epoch 14/30\n",
            "625/625 - 2s - loss: 0.4904 - accuracy: 0.7451 - val_loss: 0.5248 - val_accuracy: 0.7353\n",
            "Epoch 15/30\n",
            "625/625 - 2s - loss: 0.4903 - accuracy: 0.7490 - val_loss: 0.5118 - val_accuracy: 0.7259\n",
            "Epoch 16/30\n",
            "625/625 - 2s - loss: 0.4897 - accuracy: 0.7508 - val_loss: 0.4972 - val_accuracy: 0.7381\n",
            "Epoch 17/30\n",
            "625/625 - 2s - loss: 0.4910 - accuracy: 0.7472 - val_loss: 0.4954 - val_accuracy: 0.7494\n",
            "Epoch 18/30\n",
            "625/625 - 2s - loss: 0.4906 - accuracy: 0.7461 - val_loss: 0.4952 - val_accuracy: 0.7396\n",
            "Epoch 19/30\n",
            "625/625 - 2s - loss: 0.4902 - accuracy: 0.7483 - val_loss: 0.4984 - val_accuracy: 0.7509\n",
            "Epoch 20/30\n",
            "625/625 - 2s - loss: 0.4887 - accuracy: 0.7495 - val_loss: 0.4955 - val_accuracy: 0.7406\n",
            "Epoch 21/30\n",
            "625/625 - 2s - loss: 0.4914 - accuracy: 0.7463 - val_loss: 0.4973 - val_accuracy: 0.7517\n",
            "Epoch 22/30\n",
            "625/625 - 2s - loss: 0.4889 - accuracy: 0.7498 - val_loss: 0.4976 - val_accuracy: 0.7387\n",
            "Epoch 23/30\n",
            "625/625 - 2s - loss: 0.4900 - accuracy: 0.7471 - val_loss: 0.4933 - val_accuracy: 0.7430\n",
            "Epoch 24/30\n",
            "625/625 - 2s - loss: 0.4893 - accuracy: 0.7479 - val_loss: 0.4950 - val_accuracy: 0.7409\n",
            "Epoch 25/30\n",
            "625/625 - 2s - loss: 0.4893 - accuracy: 0.7437 - val_loss: 0.4930 - val_accuracy: 0.7465\n",
            "Epoch 26/30\n",
            "625/625 - 2s - loss: 0.4891 - accuracy: 0.7500 - val_loss: 0.4994 - val_accuracy: 0.7368\n",
            "Epoch 27/30\n",
            "625/625 - 2s - loss: 0.4882 - accuracy: 0.7505 - val_loss: 0.4930 - val_accuracy: 0.7456\n",
            "Epoch 28/30\n",
            "625/625 - 2s - loss: 0.4884 - accuracy: 0.7508 - val_loss: 0.5025 - val_accuracy: 0.7320\n",
            "Epoch 29/30\n",
            "625/625 - 2s - loss: 0.4873 - accuracy: 0.7490 - val_loss: 0.4928 - val_accuracy: 0.7418\n",
            "Epoch 30/30\n",
            "625/625 - 2s - loss: 0.4869 - accuracy: 0.7509 - val_loss: 0.5037 - val_accuracy: 0.7438\n"
          ],
          "name": "stdout"
        }
      ]
    },
    {
      "cell_type": "code",
      "metadata": {
        "colab": {
          "base_uri": "https://localhost:8080/",
          "height": 541
        },
        "id": "2HYfBKXjkmU8",
        "outputId": "59375f97-e956-43b4-e635-2bcb03abba3b"
      },
      "source": [
        "import matplotlib.pyplot as plt\n",
        "\n",
        "\n",
        "def plot_graphs(history, string):\n",
        "  plt.plot(history.history[string])\n",
        "  plt.plot(history.history['val_'+string])\n",
        "  plt.xlabel(\"Epochs\")\n",
        "  plt.ylabel(string)\n",
        "  plt.legend([string, 'val_'+string])\n",
        "  plt.show()\n",
        "  \n",
        "plot_graphs(history, \"accuracy\")\n",
        "plot_graphs(history, \"loss\")"
      ],
      "execution_count": 81,
      "outputs": [
        {
          "output_type": "display_data",
          "data": {
            "image/png": "[encoded data removed]",
            "text/plain": [
              "<Figure size 432x288 with 1 Axes>"
            ]
          },
          "metadata": {
            "tags": [],
            "needs_background": "light"
          }
        },
        {
          "output_type": "display_data",
          "data": {
            "image/png": "[encoded data removed]",
            "text/plain": [
              "<Figure size 432x288 with 1 Axes>"
            ]
          },
          "metadata": {
            "tags": [],
            "needs_background": "light"
          }
        }
      ]
    },
    {
      "cell_type": "code",
      "metadata": {
        "id": "7SBdAZAenvzL"
      },
      "source": [
        "reverse_word_index = dict([(value, key) for (key, value) in word_index.items()])\n",
        "\n",
        "def decode_sentence(text):\n",
        "    return ' '.join([reverse_word_index.get(i, '?') for i in text])\n",
        "\n",
        "print(decode_sentence(training_padded[0]))\n",
        "print(training_sentences[2])\n",
        "print(labels[2])"
      ],
      "execution_count": null,
      "outputs": []
    },
    {
      "cell_type": "code",
      "metadata": {
        "id": "c9MqihtEkzQ9"
      },
      "source": [
        "e = model.layers[0]\n",
        "weights = e.get_weights()[0]\n",
        "print(weights.shape) # shape: (vocab_size, embedding_dim)\n"
      ],
      "execution_count": null,
      "outputs": []
    },
    {
      "cell_type": "code",
      "metadata": {
        "id": "LoBXVffknldU"
      },
      "source": [
        "import io\n",
        "\n",
        "out_v = io.open('vecs.tsv', 'w', encoding='utf-8')\n",
        "out_m = io.open('meta.tsv', 'w', encoding='utf-8')\n",
        "for word_num in range(1, vocab_size):\n",
        "  word = reverse_word_index[word_num]\n",
        "  embeddings = weights[word_num]\n",
        "  out_m.write(word + \"\\n\")\n",
        "  out_v.write('\\t'.join([str(x) for x in embeddings]) + \"\\n\")\n",
        "out_v.close()\n",
        "out_m.close()"
      ],
      "execution_count": null,
      "outputs": []
    },
    {
      "cell_type": "code",
      "metadata": {
        "id": "U4eZ5HtVnnEE"
      },
      "source": [
        "try:\n",
        "  from google.colab import files\n",
        "except ImportError:\n",
        "  pass\n",
        "else:\n",
        "  files.download('vecs.tsv')\n",
        "  files.download('meta.tsv')"
      ],
      "execution_count": null,
      "outputs": []
    },
    {
      "cell_type": "code",
      "metadata": {
        "id": "cG8-ArY-qDcz"
      },
      "source": [
        "sentence = [\"granny starting to fear spiders in the garden might be real\", \"game of thrones season finale showing this sunday night\"]\n",
        "sequences = tokenizer.texts_to_sequences(sentence)\n",
        "padded = pad_sequences(sequences, maxlen=max_length, padding=padding_type, truncating=trunc_type)\n",
        "print(model.predict(padded))"
      ],
      "execution_count": null,
      "outputs": []
    }
  ]
}