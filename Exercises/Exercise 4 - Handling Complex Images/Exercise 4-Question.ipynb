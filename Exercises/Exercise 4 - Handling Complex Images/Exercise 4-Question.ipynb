{
  "nbformat": 4,
  "nbformat_minor": 0,
  "metadata": {
    "colab": {
      "name": "Exercise 4-Question.ipynb",
      "provenance": [],
      "toc_visible": true
    },
    "kernelspec": {
      "display_name": "Python 3",
      "name": "python3"
    }
  },
  "cells": [
    {
      "cell_type": "code",
      "metadata": {
        "id": "zX4Kg8DUTKWO"
      },
      "source": [
        "#@title Licensed under the Apache License, Version 2.0 (the \"License\");\n",
        "# you may not use this file except in compliance with the License.\n",
        "# You may obtain a copy of the License at\n",
        "#\n",
        "# https://www.apache.org/licenses/LICENSE-2.0\n",
        "#\n",
        "# Unless required by applicable law or agreed to in writing, software\n",
        "# distributed under the License is distributed on an \"AS IS\" BASIS,\n",
        "# WITHOUT WARRANTIES OR CONDITIONS OF ANY KIND, either express or implied.\n",
        "# See the License for the specific language governing permissions and\n",
        "# limitations under the License."
      ],
      "execution_count": null,
      "outputs": []
    },
    {
      "cell_type": "markdown",
      "metadata": {
        "id": "UncprnB0ymAE"
      },
      "source": [
        "Below is code with a link to a happy or sad dataset which contains 80 images, 40 happy and 40 sad. \n",
        "Create a convolutional neural network that trains to 100% accuracy on these images,  which cancels training upon hitting training accuracy of >.999\n",
        "\n",
        "Hint -- it will work best with 3 convolutional layers."
      ]
    },
    {
      "cell_type": "code",
      "metadata": {
        "colab": {
          "base_uri": "https://localhost:8080/"
        },
        "id": "7Vti6p3PxmpS",
        "outputId": "8a9ca678-c392-4254-cb11-7f924eeaa36e"
      },
      "source": [
        "import tensorflow as tf\n",
        "import os\n",
        "import zipfile\n",
        "\n",
        "\n",
        "DESIRED_ACCURACY = 0.999\n",
        "\n",
        "!wget --no-check-certificate \\\n",
        "    \"https://storage.googleapis.com/laurencemoroney-blog.appspot.com/happy-or-sad.zip\" \\\n",
        "    -O \"/tmp/happy-or-sad.zip\"\n",
        "\n",
        "zip_ref = zipfile.ZipFile(\"/tmp/happy-or-sad.zip\", 'r')\n",
        "zip_ref.extractall(\"/tmp/h-or-s\")\n",
        "zip_ref.close()\n",
        "\n",
        "class myCallback(tf.keras.callbacks.Callback):\n",
        "    def on_epoch_end(self, epoch, logs={}):\n",
        "      if(logs.get('accuracy')>=0.9989):\n",
        "        print(\"\\nReached 99.9% accuracy so cancelling training!\")\n",
        "        self.model.stop_training = True\n",
        "\n",
        "callbacks = myCallback()"
      ],
      "execution_count": 8,
      "outputs": [
        {
          "output_type": "stream",
          "text": [
            "--2021-07-20 00:01:49--  https://storage.googleapis.com/laurencemoroney-blog.appspot.com/happy-or-sad.zip\n",
            "Resolving storage.googleapis.com (storage.googleapis.com)... 172.217.13.240, 172.217.15.80, 142.250.188.48, ...\n",
            "Connecting to storage.googleapis.com (storage.googleapis.com)|172.217.13.240|:443... connected.\n",
            "HTTP request sent, awaiting response... 200 OK\n",
            "Length: 2670333 (2.5M) [application/zip]\n",
            "Saving to: ‘/tmp/happy-or-sad.zip’\n",
            "\n",
            "\r/tmp/happy-or-sad.z   0%[                    ]       0  --.-KB/s               \r/tmp/happy-or-sad.z 100%[===================>]   2.55M  --.-KB/s    in 0.02s   \n",
            "\n",
            "2021-07-20 00:01:49 (164 MB/s) - ‘/tmp/happy-or-sad.zip’ saved [2670333/2670333]\n",
            "\n"
          ],
          "name": "stdout"
        }
      ]
    },
    {
      "cell_type": "code",
      "metadata": {
        "colab": {
          "base_uri": "https://localhost:8080/"
        },
        "id": "6DLGbXXI1j_V",
        "outputId": "bfb9d89d-77fa-4eb5-da2d-80ed5d34b97a"
      },
      "source": [
        "# This Code Block should Define and Compile the Model. Please assume the images are 150 X 150 in your implementation.\n",
        "model = tf.keras.models.Sequential([\n",
        "        # This is the first convolution\n",
        "        tf.keras.layers.Conv2D(16, (3,3), activation='relu', input_shape=(300, 300, 3)),\n",
        "        tf.keras.layers.MaxPooling2D(2, 2),\n",
        "        # The second convolution\n",
        "        tf.keras.layers.Conv2D(32, (3,3), activation='relu'),\n",
        "        tf.keras.layers.MaxPooling2D(2,2),\n",
        "        # The third convolution\n",
        "        tf.keras.layers.Conv2D(64, (3,3), activation='relu'),\n",
        "        tf.keras.layers.MaxPooling2D(2,2),\n",
        "        # The fourth convolution\n",
        "        tf.keras.layers.Conv2D(64, (3,3), activation='relu'),\n",
        "        tf.keras.layers.MaxPooling2D(2,2),\n",
        "        # The fifth convolution\n",
        "        tf.keras.layers.Conv2D(64, (3,3), activation='relu'),\n",
        "        tf.keras.layers.MaxPooling2D(2,2),\n",
        "        # Flatten the results to feed into a DNN\n",
        "        tf.keras.layers.Flatten(),\n",
        "        # 512 neuron hidden layer\n",
        "        tf.keras.layers.Dense(512, activation='relu'),\n",
        "        # Only 1 output neuron. It will contain a value from 0-1 where 0 for 1 class ('horses') and 1 for the other ('humans')\n",
        "        tf.keras.layers.Dense(1, activation='sigmoid')\n",
        "])\n",
        "\n",
        "from tensorflow.keras.optimizers import RMSprop\n",
        "\n",
        "model.compile(loss='binary_crossentropy',\n",
        "          optimizer=RMSprop(lr=0.001),\n",
        "          metrics=['accuracy'])\n",
        "    \n"
      ],
      "execution_count": 9,
      "outputs": [
        {
          "output_type": "stream",
          "text": [
            "/usr/local/lib/python3.7/dist-packages/tensorflow/python/keras/optimizer_v2/optimizer_v2.py:375: UserWarning: The `lr` argument is deprecated, use `learning_rate` instead.\n",
            "  \"The `lr` argument is deprecated, use `learning_rate` instead.\")\n"
          ],
          "name": "stderr"
        }
      ]
    },
    {
      "cell_type": "code",
      "metadata": {
        "colab": {
          "base_uri": "https://localhost:8080/"
        },
        "id": "4Ap9fUJE1vVu",
        "outputId": "bcbd8f10-122e-4521-d0df-d012649cc7dd"
      },
      "source": [
        "from tensorflow.keras.preprocessing.image import ImageDataGenerator\n",
        "\n",
        "train_datagen =  ImageDataGenerator(rescale=1/255.0)\n",
        "\n",
        "train_generator = train_datagen.flow_from_directory(\n",
        "    '/tmp/h-or-s',  # This is the source directory for training images\n",
        "    target_size=(300, 300),  # All images will be resized to 150x150\n",
        "    batch_size=8,\n",
        "    # Since we use binary_crossentropy loss, we need binary labels\n",
        "    class_mode='binary'\n",
        ")\n",
        "# Expected output: 'Found 80 images belonging to 2 classes'"
      ],
      "execution_count": 12,
      "outputs": [
        {
          "output_type": "stream",
          "text": [
            "Found 80 images belonging to 2 classes.\n"
          ],
          "name": "stdout"
        }
      ]
    },
    {
      "cell_type": "code",
      "metadata": {
        "colab": {
          "base_uri": "https://localhost:8080/"
        },
        "id": "48dLm13U1-Le",
        "outputId": "62f66b41-ca08-4867-c560-7690570060ba"
      },
      "source": [
        "# This code block should call model.fit and train for\n",
        "# a number of epochs. \n",
        "history = model.fit_generator(\n",
        "      train_generator,\n",
        "      steps_per_epoch=8,  \n",
        "      epochs=15,\n",
        "      verbose=1,\n",
        "      validation_steps=8,\n",
        "      callbacks = [callbacks])\n",
        "    \n",
        "# Expected output: \"Reached 99.9% accuracy so cancelling training!\"\""
      ],
      "execution_count": 13,
      "outputs": [
        {
          "output_type": "stream",
          "text": [
            "/usr/local/lib/python3.7/dist-packages/tensorflow/python/keras/engine/training.py:1940: UserWarning: `Model.fit_generator` is deprecated and will be removed in a future version. Please use `Model.fit`, which supports generators.\n",
            "  warnings.warn('`Model.fit_generator` is deprecated and '\n"
          ],
          "name": "stderr"
        },
        {
          "output_type": "stream",
          "text": [
            "Epoch 1/15\n",
            "8/8 [==============================] - 6s 695ms/step - loss: 0.7860 - accuracy: 0.5469\n",
            "Epoch 2/15\n",
            "8/8 [==============================] - 6s 692ms/step - loss: 0.7071 - accuracy: 0.6250\n",
            "Epoch 3/15\n",
            "8/8 [==============================] - 6s 685ms/step - loss: 0.4721 - accuracy: 0.8438\n",
            "Epoch 4/15\n",
            "8/8 [==============================] - 6s 687ms/step - loss: 0.2934 - accuracy: 0.9062\n",
            "Epoch 5/15\n",
            "8/8 [==============================] - 6s 686ms/step - loss: 0.1819 - accuracy: 0.9219\n",
            "Epoch 6/15\n",
            "8/8 [==============================] - 6s 687ms/step - loss: 0.2105 - accuracy: 0.9219\n",
            "Epoch 7/15\n",
            "8/8 [==============================] - 5s 681ms/step - loss: 0.0679 - accuracy: 0.9844\n",
            "Epoch 8/15\n",
            "8/8 [==============================] - 6s 685ms/step - loss: 0.0309 - accuracy: 1.0000\n",
            "\n",
            "Reached 99.9% accuracy so cancelling training!\n"
          ],
          "name": "stdout"
        }
      ]
    }
  ]
}